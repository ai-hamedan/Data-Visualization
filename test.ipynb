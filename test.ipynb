# Transforming the Data with fit_transform
# X_poly = poly.fit_transform(X)
# print("Transformed X (X_poly):\n", X_poly)

# If X = [[2], [3], [4]], then X_poly will be:
# [[ 1.  2.  4.  8.]
# [ 1.  3.  9. 27.]
# [ 1.  4. 16. 64.]]

# Using reshape(-1, 1) is a common way to convert a 1D array into a 2D column vector, allowing you to properly interface with libraries and functions that require this specific data format.
